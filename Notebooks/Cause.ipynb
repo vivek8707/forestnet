{
 "cells": [
  {
   "cell_type": "markdown",
   "metadata": {},
   "source": [
    "**Imports**"
   ]
  },
  {
   "cell_type": "code",
   "execution_count": 4,
   "metadata": {},
   "outputs": [],
   "source": [
    "import pandas as pd\n",
    "import numpy as np\n",
    "import tensorflow as tf\n",
    "from tensorflow.keras.models import Sequential\n",
    "from tensorflow.keras.layers import Dense"
   ]
  },
  {
   "cell_type": "markdown",
   "metadata": {},
   "source": [
    "**Pre-Processing**"
   ]
  },
  {
   "cell_type": "code",
   "execution_count": 5,
   "metadata": {},
   "outputs": [
    {
     "data": {
      "text/html": [
       "<div>\n",
       "<style scoped>\n",
       "    .dataframe tbody tr th:only-of-type {\n",
       "        vertical-align: middle;\n",
       "    }\n",
       "\n",
       "    .dataframe tbody tr th {\n",
       "        vertical-align: top;\n",
       "    }\n",
       "\n",
       "    .dataframe thead th {\n",
       "        text-align: right;\n",
       "    }\n",
       "</style>\n",
       "<table border=\"1\" class=\"dataframe\">\n",
       "  <thead>\n",
       "    <tr style=\"text-align: right;\">\n",
       "      <th></th>\n",
       "      <th>Unnamed: 0</th>\n",
       "      <th>Unnamed: 0.1</th>\n",
       "      <th>fire_name</th>\n",
       "      <th>fire_size</th>\n",
       "      <th>fire_size_class</th>\n",
       "      <th>stat_cause_descr</th>\n",
       "      <th>latitude</th>\n",
       "      <th>longitude</th>\n",
       "      <th>state</th>\n",
       "      <th>disc_clean_date</th>\n",
       "      <th>...</th>\n",
       "      <th>Wind_cont</th>\n",
       "      <th>Hum_pre_30</th>\n",
       "      <th>Hum_pre_15</th>\n",
       "      <th>Hum_pre_7</th>\n",
       "      <th>Hum_cont</th>\n",
       "      <th>Prec_pre_30</th>\n",
       "      <th>Prec_pre_15</th>\n",
       "      <th>Prec_pre_7</th>\n",
       "      <th>Prec_cont</th>\n",
       "      <th>remoteness</th>\n",
       "    </tr>\n",
       "  </thead>\n",
       "  <tbody>\n",
       "    <tr>\n",
       "      <th>0</th>\n",
       "      <td>0</td>\n",
       "      <td>0</td>\n",
       "      <td>NaN</td>\n",
       "      <td>10.0</td>\n",
       "      <td>C</td>\n",
       "      <td>Missing/Undefined</td>\n",
       "      <td>18.105072</td>\n",
       "      <td>-66.753044</td>\n",
       "      <td>PR</td>\n",
       "      <td>2/11/2007</td>\n",
       "      <td>...</td>\n",
       "      <td>3.250413</td>\n",
       "      <td>78.216590</td>\n",
       "      <td>76.793750</td>\n",
       "      <td>76.381579</td>\n",
       "      <td>78.724370</td>\n",
       "      <td>0.0</td>\n",
       "      <td>0.0</td>\n",
       "      <td>0.0</td>\n",
       "      <td>0.0</td>\n",
       "      <td>0.017923</td>\n",
       "    </tr>\n",
       "    <tr>\n",
       "      <th>1</th>\n",
       "      <td>1</td>\n",
       "      <td>1</td>\n",
       "      <td>NaN</td>\n",
       "      <td>3.0</td>\n",
       "      <td>B</td>\n",
       "      <td>Arson</td>\n",
       "      <td>35.038330</td>\n",
       "      <td>-87.610000</td>\n",
       "      <td>TN</td>\n",
       "      <td>12/11/2006</td>\n",
       "      <td>...</td>\n",
       "      <td>2.122320</td>\n",
       "      <td>70.840000</td>\n",
       "      <td>65.858911</td>\n",
       "      <td>55.505882</td>\n",
       "      <td>81.682678</td>\n",
       "      <td>59.8</td>\n",
       "      <td>8.4</td>\n",
       "      <td>0.0</td>\n",
       "      <td>86.8</td>\n",
       "      <td>0.184355</td>\n",
       "    </tr>\n",
       "    <tr>\n",
       "      <th>2</th>\n",
       "      <td>2</td>\n",
       "      <td>2</td>\n",
       "      <td>NaN</td>\n",
       "      <td>60.0</td>\n",
       "      <td>C</td>\n",
       "      <td>Arson</td>\n",
       "      <td>34.947800</td>\n",
       "      <td>-88.722500</td>\n",
       "      <td>MS</td>\n",
       "      <td>2/29/2004</td>\n",
       "      <td>...</td>\n",
       "      <td>3.369050</td>\n",
       "      <td>75.531629</td>\n",
       "      <td>75.868613</td>\n",
       "      <td>76.812834</td>\n",
       "      <td>65.063800</td>\n",
       "      <td>168.8</td>\n",
       "      <td>42.2</td>\n",
       "      <td>18.1</td>\n",
       "      <td>124.5</td>\n",
       "      <td>0.194544</td>\n",
       "    </tr>\n",
       "    <tr>\n",
       "      <th>3</th>\n",
       "      <td>3</td>\n",
       "      <td>3</td>\n",
       "      <td>WNA  1</td>\n",
       "      <td>1.0</td>\n",
       "      <td>B</td>\n",
       "      <td>Debris Burning</td>\n",
       "      <td>39.641400</td>\n",
       "      <td>-119.308300</td>\n",
       "      <td>NV</td>\n",
       "      <td>6/6/2005</td>\n",
       "      <td>...</td>\n",
       "      <td>0.000000</td>\n",
       "      <td>44.778429</td>\n",
       "      <td>37.140811</td>\n",
       "      <td>35.353846</td>\n",
       "      <td>0.000000</td>\n",
       "      <td>10.4</td>\n",
       "      <td>7.2</td>\n",
       "      <td>0.0</td>\n",
       "      <td>0.0</td>\n",
       "      <td>0.487447</td>\n",
       "    </tr>\n",
       "    <tr>\n",
       "      <th>4</th>\n",
       "      <td>4</td>\n",
       "      <td>4</td>\n",
       "      <td>NaN</td>\n",
       "      <td>2.0</td>\n",
       "      <td>B</td>\n",
       "      <td>Miscellaneous</td>\n",
       "      <td>30.700600</td>\n",
       "      <td>-90.591400</td>\n",
       "      <td>LA</td>\n",
       "      <td>9/22/1999</td>\n",
       "      <td>...</td>\n",
       "      <td>-1.000000</td>\n",
       "      <td>-1.000000</td>\n",
       "      <td>-1.000000</td>\n",
       "      <td>-1.000000</td>\n",
       "      <td>-1.000000</td>\n",
       "      <td>-1.0</td>\n",
       "      <td>-1.0</td>\n",
       "      <td>-1.0</td>\n",
       "      <td>-1.0</td>\n",
       "      <td>0.214633</td>\n",
       "    </tr>\n",
       "  </tbody>\n",
       "</table>\n",
       "<p>5 rows × 43 columns</p>\n",
       "</div>"
      ],
      "text/plain": [
       "   Unnamed: 0  Unnamed: 0.1 fire_name  fire_size fire_size_class  \\\n",
       "0           0             0       NaN       10.0               C   \n",
       "1           1             1       NaN        3.0               B   \n",
       "2           2             2       NaN       60.0               C   \n",
       "3           3             3    WNA  1        1.0               B   \n",
       "4           4             4       NaN        2.0               B   \n",
       "\n",
       "    stat_cause_descr   latitude   longitude state disc_clean_date  ...  \\\n",
       "0  Missing/Undefined  18.105072  -66.753044    PR       2/11/2007  ...   \n",
       "1              Arson  35.038330  -87.610000    TN      12/11/2006  ...   \n",
       "2              Arson  34.947800  -88.722500    MS       2/29/2004  ...   \n",
       "3     Debris Burning  39.641400 -119.308300    NV        6/6/2005  ...   \n",
       "4      Miscellaneous  30.700600  -90.591400    LA       9/22/1999  ...   \n",
       "\n",
       "  Wind_cont Hum_pre_30 Hum_pre_15  Hum_pre_7   Hum_cont Prec_pre_30  \\\n",
       "0  3.250413  78.216590  76.793750  76.381579  78.724370         0.0   \n",
       "1  2.122320  70.840000  65.858911  55.505882  81.682678        59.8   \n",
       "2  3.369050  75.531629  75.868613  76.812834  65.063800       168.8   \n",
       "3  0.000000  44.778429  37.140811  35.353846   0.000000        10.4   \n",
       "4 -1.000000  -1.000000  -1.000000  -1.000000  -1.000000        -1.0   \n",
       "\n",
       "   Prec_pre_15 Prec_pre_7 Prec_cont  remoteness  \n",
       "0          0.0        0.0       0.0    0.017923  \n",
       "1          8.4        0.0      86.8    0.184355  \n",
       "2         42.2       18.1     124.5    0.194544  \n",
       "3          7.2        0.0       0.0    0.487447  \n",
       "4         -1.0       -1.0      -1.0    0.214633  \n",
       "\n",
       "[5 rows x 43 columns]"
      ]
     },
     "execution_count": 5,
     "metadata": {},
     "output_type": "execute_result"
    }
   ],
   "source": [
    "data = pd.read_csv('../data/WildfireData.csv')\n",
    "data.head()"
   ]
  },
  {
   "cell_type": "code",
   "execution_count": 6,
   "metadata": {},
   "outputs": [
    {
     "data": {
      "text/html": [
       "<div>\n",
       "<style scoped>\n",
       "    .dataframe tbody tr th:only-of-type {\n",
       "        vertical-align: middle;\n",
       "    }\n",
       "\n",
       "    .dataframe tbody tr th {\n",
       "        vertical-align: top;\n",
       "    }\n",
       "\n",
       "    .dataframe thead th {\n",
       "        text-align: right;\n",
       "    }\n",
       "</style>\n",
       "<table border=\"1\" class=\"dataframe\">\n",
       "  <thead>\n",
       "    <tr style=\"text-align: right;\">\n",
       "      <th></th>\n",
       "      <th>fire_size</th>\n",
       "      <th>remoteness</th>\n",
       "      <th>putout_time</th>\n",
       "      <th>stat_cause_descr</th>\n",
       "    </tr>\n",
       "  </thead>\n",
       "  <tbody>\n",
       "    <tr>\n",
       "      <th>0</th>\n",
       "      <td>10.0</td>\n",
       "      <td>0.017923</td>\n",
       "      <td>NaN</td>\n",
       "      <td>Missing/Undefined</td>\n",
       "    </tr>\n",
       "    <tr>\n",
       "      <th>1</th>\n",
       "      <td>3.0</td>\n",
       "      <td>0.184355</td>\n",
       "      <td>NaN</td>\n",
       "      <td>Arson</td>\n",
       "    </tr>\n",
       "    <tr>\n",
       "      <th>2</th>\n",
       "      <td>60.0</td>\n",
       "      <td>0.194544</td>\n",
       "      <td>NaN</td>\n",
       "      <td>Arson</td>\n",
       "    </tr>\n",
       "    <tr>\n",
       "      <th>3</th>\n",
       "      <td>1.0</td>\n",
       "      <td>0.487447</td>\n",
       "      <td>0 days 00:00:00.000000000</td>\n",
       "      <td>Debris Burning</td>\n",
       "    </tr>\n",
       "    <tr>\n",
       "      <th>4</th>\n",
       "      <td>2.0</td>\n",
       "      <td>0.214633</td>\n",
       "      <td>NaN</td>\n",
       "      <td>Miscellaneous</td>\n",
       "    </tr>\n",
       "  </tbody>\n",
       "</table>\n",
       "</div>"
      ],
      "text/plain": [
       "   fire_size  remoteness                putout_time   stat_cause_descr\n",
       "0       10.0    0.017923                        NaN  Missing/Undefined\n",
       "1        3.0    0.184355                        NaN              Arson\n",
       "2       60.0    0.194544                        NaN              Arson\n",
       "3        1.0    0.487447  0 days 00:00:00.000000000     Debris Burning\n",
       "4        2.0    0.214633                        NaN      Miscellaneous"
      ]
     },
     "execution_count": 6,
     "metadata": {},
     "output_type": "execute_result"
    }
   ],
   "source": [
    "data = data[['fire_size', 'remoteness', 'putout_time', 'stat_cause_descr']]\n",
    "data.head()"
   ]
  },
  {
   "cell_type": "code",
   "execution_count": 7,
   "metadata": {},
   "outputs": [
    {
     "data": {
      "text/html": [
       "<div>\n",
       "<style scoped>\n",
       "    .dataframe tbody tr th:only-of-type {\n",
       "        vertical-align: middle;\n",
       "    }\n",
       "\n",
       "    .dataframe tbody tr th {\n",
       "        vertical-align: top;\n",
       "    }\n",
       "\n",
       "    .dataframe thead th {\n",
       "        text-align: right;\n",
       "    }\n",
       "</style>\n",
       "<table border=\"1\" class=\"dataframe\">\n",
       "  <thead>\n",
       "    <tr style=\"text-align: right;\">\n",
       "      <th></th>\n",
       "      <th>fire_size</th>\n",
       "      <th>remoteness</th>\n",
       "      <th>putout_time</th>\n",
       "      <th>stat_cause_descr</th>\n",
       "    </tr>\n",
       "  </thead>\n",
       "  <tbody>\n",
       "    <tr>\n",
       "      <th>3</th>\n",
       "      <td>1.0</td>\n",
       "      <td>0.487447</td>\n",
       "      <td>0</td>\n",
       "      <td>Debris Burning</td>\n",
       "    </tr>\n",
       "    <tr>\n",
       "      <th>9</th>\n",
       "      <td>1.0</td>\n",
       "      <td>0.291683</td>\n",
       "      <td>0</td>\n",
       "      <td>Miscellaneous</td>\n",
       "    </tr>\n",
       "    <tr>\n",
       "      <th>11</th>\n",
       "      <td>37.0</td>\n",
       "      <td>0.191923</td>\n",
       "      <td>0</td>\n",
       "      <td>Arson</td>\n",
       "    </tr>\n",
       "    <tr>\n",
       "      <th>14</th>\n",
       "      <td>3.0</td>\n",
       "      <td>0.123518</td>\n",
       "      <td>0</td>\n",
       "      <td>Missing/Undefined</td>\n",
       "    </tr>\n",
       "    <tr>\n",
       "      <th>22</th>\n",
       "      <td>2.0</td>\n",
       "      <td>0.054988</td>\n",
       "      <td>0</td>\n",
       "      <td>Miscellaneous</td>\n",
       "    </tr>\n",
       "  </tbody>\n",
       "</table>\n",
       "</div>"
      ],
      "text/plain": [
       "    fire_size  remoteness putout_time   stat_cause_descr\n",
       "3         1.0    0.487447           0     Debris Burning\n",
       "9         1.0    0.291683           0      Miscellaneous\n",
       "11       37.0    0.191923           0              Arson\n",
       "14        3.0    0.123518           0  Missing/Undefined\n",
       "22        2.0    0.054988           0      Miscellaneous"
      ]
     },
     "execution_count": 7,
     "metadata": {},
     "output_type": "execute_result"
    }
   ],
   "source": [
    "data = data.dropna()\n",
    "data['putout_time'] = data['putout_time'].str.split(' ').str[0]\n",
    "data.head()"
   ]
  },
  {
   "cell_type": "code",
   "execution_count": 8,
   "metadata": {},
   "outputs": [
    {
     "data": {
      "text/plain": [
       "array(['Debris Burning', 'Miscellaneous', 'Arson', 'Missing/Undefined',\n",
       "       'Lightning', 'Equipment Use', 'Campfire', 'Structure', 'Children',\n",
       "       'Smoking', 'Powerline', 'Railroad', 'Fireworks'], dtype=object)"
      ]
     },
     "execution_count": 8,
     "metadata": {},
     "output_type": "execute_result"
    }
   ],
   "source": [
    "data.stat_cause_descr.unique()"
   ]
  },
  {
   "cell_type": "code",
   "execution_count": 9,
   "metadata": {},
   "outputs": [
    {
     "data": {
      "text/html": [
       "<div>\n",
       "<style scoped>\n",
       "    .dataframe tbody tr th:only-of-type {\n",
       "        vertical-align: middle;\n",
       "    }\n",
       "\n",
       "    .dataframe tbody tr th {\n",
       "        vertical-align: top;\n",
       "    }\n",
       "\n",
       "    .dataframe thead th {\n",
       "        text-align: right;\n",
       "    }\n",
       "</style>\n",
       "<table border=\"1\" class=\"dataframe\">\n",
       "  <thead>\n",
       "    <tr style=\"text-align: right;\">\n",
       "      <th></th>\n",
       "      <th>fire_size</th>\n",
       "      <th>remoteness</th>\n",
       "      <th>putout_time</th>\n",
       "      <th>stat_cause_descr</th>\n",
       "    </tr>\n",
       "  </thead>\n",
       "  <tbody>\n",
       "    <tr>\n",
       "      <th>3</th>\n",
       "      <td>1.0</td>\n",
       "      <td>0.487447</td>\n",
       "      <td>0</td>\n",
       "      <td>0</td>\n",
       "    </tr>\n",
       "    <tr>\n",
       "      <th>9</th>\n",
       "      <td>1.0</td>\n",
       "      <td>0.291683</td>\n",
       "      <td>0</td>\n",
       "      <td>5</td>\n",
       "    </tr>\n",
       "    <tr>\n",
       "      <th>11</th>\n",
       "      <td>37.0</td>\n",
       "      <td>0.191923</td>\n",
       "      <td>0</td>\n",
       "      <td>1</td>\n",
       "    </tr>\n",
       "    <tr>\n",
       "      <th>14</th>\n",
       "      <td>3.0</td>\n",
       "      <td>0.123518</td>\n",
       "      <td>0</td>\n",
       "      <td>5</td>\n",
       "    </tr>\n",
       "    <tr>\n",
       "      <th>22</th>\n",
       "      <td>2.0</td>\n",
       "      <td>0.054988</td>\n",
       "      <td>0</td>\n",
       "      <td>5</td>\n",
       "    </tr>\n",
       "  </tbody>\n",
       "</table>\n",
       "</div>"
      ],
      "text/plain": [
       "    fire_size  remoteness putout_time  stat_cause_descr\n",
       "3         1.0    0.487447           0                 0\n",
       "9         1.0    0.291683           0                 5\n",
       "11       37.0    0.191923           0                 1\n",
       "14        3.0    0.123518           0                 5\n",
       "22        2.0    0.054988           0                 5"
      ]
     },
     "execution_count": 9,
     "metadata": {},
     "output_type": "execute_result"
    }
   ],
   "source": [
    "data['stat_cause_descr'] = data['stat_cause_descr'].map({\n",
    "    'Debris Burning': 0,\n",
    "    'Arson': 1,\n",
    "    'Lightning': 2,\n",
    "    'Equipment Use': 3,\n",
    "    'Campfire': 4,\n",
    "    'Structure': 5,\n",
    "    'Children': 5,\n",
    "    'Smoking': 5,\n",
    "    'Powerline': 5,\n",
    "    'Railroad': 5,\n",
    "    'Fireworks': 5,\n",
    "    'Missing/Undefined': 5,\n",
    "    'Miscellaneous': 5\n",
    "})\n",
    "data.stat_cause_descr.unique()\n",
    "data.head()"
   ]
  },
  {
   "cell_type": "code",
   "execution_count": 19,
   "metadata": {},
   "outputs": [
    {
     "name": "stdout",
     "output_type": "stream",
     "text": [
      "    fire_size  remoteness  putout_time\n",
      "3         1.0    0.487447          0.0\n",
      "9         1.0    0.291683          0.0\n",
      "11       37.0    0.191923          0.0\n",
      "14        3.0    0.123518          0.0\n",
      "22        2.0    0.054988          0.0\n",
      "3     0.0\n",
      "9     5.0\n",
      "11    1.0\n",
      "14    5.0\n",
      "22    5.0\n",
      "Name: stat_cause_descr, dtype: float64\n"
     ]
    }
   ],
   "source": [
    "from sklearn.model_selection import train_test_split\n",
    "X = data.drop('stat_cause_descr', axis=1).astype('float')\n",
    "y = data.stat_cause_descr.astype('float')\n",
    "print(X.head())\n",
    "print(y.head())\n",
    "X_train, X_test, y_train, y_test = train_test_split(X, y, test_size=0.1)"
   ]
  },
  {
   "cell_type": "code",
   "execution_count": 20,
   "metadata": {},
   "outputs": [
    {
     "data": {
      "text/plain": [
       "(24729, 3)"
      ]
     },
     "execution_count": 20,
     "metadata": {},
     "output_type": "execute_result"
    }
   ],
   "source": [
    "X_train.shape"
   ]
  },
  {
   "cell_type": "code",
   "execution_count": 21,
   "metadata": {},
   "outputs": [
    {
     "data": {
      "text/plain": [
       "(24729,)"
      ]
     },
     "execution_count": 21,
     "metadata": {},
     "output_type": "execute_result"
    }
   ],
   "source": [
    "y_train.shape"
   ]
  },
  {
   "cell_type": "code",
   "execution_count": 22,
   "metadata": {},
   "outputs": [],
   "source": [
    "from tensorflow.keras.utils import to_categorical\n",
    "y_train = to_categorical(y_train)\n",
    "y_test = to_categorical(y_test)"
   ]
  },
  {
   "cell_type": "code",
   "execution_count": 23,
   "metadata": {},
   "outputs": [
    {
     "data": {
      "text/plain": [
       "(24729, 6)"
      ]
     },
     "execution_count": 23,
     "metadata": {},
     "output_type": "execute_result"
    }
   ],
   "source": [
    "y_train.shape"
   ]
  },
  {
   "cell_type": "markdown",
   "metadata": {},
   "source": [
    "**NN Model**"
   ]
  },
  {
   "cell_type": "code",
   "execution_count": 24,
   "metadata": {},
   "outputs": [],
   "source": [
    "model = Sequential()\n",
    "model.add(Dense(32, input_dim=(3), activation='relu'))\n",
    "model.add(Dense(16, activation='relu'))\n",
    "model.add(Dense(8, activation='relu'))\n",
    "model.add(Dense(6, activation='softmax'))"
   ]
  },
  {
   "cell_type": "code",
   "execution_count": 25,
   "metadata": {},
   "outputs": [],
   "source": [
    "model.compile(loss='categorical_crossentropy', optimizer='adam', metrics=['accuracy'])"
   ]
  },
  {
   "cell_type": "code",
   "execution_count": 26,
   "metadata": {},
   "outputs": [
    {
     "name": "stdout",
     "output_type": "stream",
     "text": [
      "Epoch 1/100\n",
      "387/387 [==============================] - 2s 3ms/step - loss: 80.9891 - accuracy: 0.2770 - val_loss: 25.2122 - val_accuracy: 0.2984\n",
      "Epoch 2/100\n",
      "387/387 [==============================] - 1s 2ms/step - loss: 4.4688 - accuracy: 0.3069 - val_loss: 1.5959 - val_accuracy: 0.2489\n",
      "Epoch 3/100\n",
      "387/387 [==============================] - 1s 2ms/step - loss: 1.6041 - accuracy: 0.2607 - val_loss: 1.5266 - val_accuracy: 0.3926\n",
      "Epoch 4/100\n",
      "387/387 [==============================] - 1s 2ms/step - loss: 1.5383 - accuracy: 0.3778 - val_loss: 1.4797 - val_accuracy: 0.4036\n",
      "Epoch 5/100\n",
      "387/387 [==============================] - 1s 2ms/step - loss: 1.4999 - accuracy: 0.3839 - val_loss: 1.4475 - val_accuracy: 0.4043\n",
      "Epoch 6/100\n",
      "387/387 [==============================] - 1s 2ms/step - loss: 1.4783 - accuracy: 0.3973 - val_loss: 1.4336 - val_accuracy: 0.4130\n",
      "Epoch 7/100\n",
      "387/387 [==============================] - 1s 3ms/step - loss: 1.4627 - accuracy: 0.4003 - val_loss: 1.4057 - val_accuracy: 0.4330\n",
      "Epoch 8/100\n",
      "387/387 [==============================] - 1s 4ms/step - loss: 1.4364 - accuracy: 0.4243 - val_loss: 1.4237 - val_accuracy: 0.4334\n",
      "Epoch 9/100\n",
      "387/387 [==============================] - 1s 4ms/step - loss: 1.4441 - accuracy: 0.4290 - val_loss: 1.3892 - val_accuracy: 0.4574\n",
      "Epoch 10/100\n",
      "387/387 [==============================] - 1s 4ms/step - loss: 1.4163 - accuracy: 0.4290 - val_loss: 1.3796 - val_accuracy: 0.4334\n",
      "Epoch 11/100\n",
      "387/387 [==============================] - 2s 4ms/step - loss: 1.4683 - accuracy: 0.4103 - val_loss: 1.4374 - val_accuracy: 0.4276\n",
      "Epoch 12/100\n",
      "387/387 [==============================] - 1s 4ms/step - loss: 1.4671 - accuracy: 0.4195 - val_loss: 1.4280 - val_accuracy: 0.4301\n",
      "Epoch 13/100\n",
      "387/387 [==============================] - 1s 4ms/step - loss: 1.4627 - accuracy: 0.4263 - val_loss: 1.4199 - val_accuracy: 0.4407\n",
      "Epoch 14/100\n",
      "387/387 [==============================] - 1s 4ms/step - loss: 1.4492 - accuracy: 0.4328 - val_loss: 1.4112 - val_accuracy: 0.4436\n",
      "Epoch 15/100\n",
      "387/387 [==============================] - 1s 3ms/step - loss: 1.4346 - accuracy: 0.4367 - val_loss: 1.4016 - val_accuracy: 0.4509\n",
      "Epoch 16/100\n",
      "387/387 [==============================] - 1s 2ms/step - loss: 1.4299 - accuracy: 0.4417 - val_loss: 1.3868 - val_accuracy: 0.4541\n",
      "Epoch 17/100\n",
      "387/387 [==============================] - 1s 3ms/step - loss: 1.4094 - accuracy: 0.4525 - val_loss: 1.3693 - val_accuracy: 0.4669\n",
      "Epoch 18/100\n",
      "387/387 [==============================] - 1s 3ms/step - loss: 1.4049 - accuracy: 0.4548 - val_loss: 1.3781 - val_accuracy: 0.4552\n",
      "Epoch 19/100\n",
      "387/387 [==============================] - 1s 3ms/step - loss: 1.4018 - accuracy: 0.4536 - val_loss: 1.3696 - val_accuracy: 0.4640\n",
      "Epoch 20/100\n",
      "387/387 [==============================] - 1s 3ms/step - loss: 1.3947 - accuracy: 0.4574 - val_loss: 1.3630 - val_accuracy: 0.4713\n",
      "Epoch 21/100\n",
      "387/387 [==============================] - 1s 4ms/step - loss: 1.6749 - accuracy: 0.4265 - val_loss: 1.4316 - val_accuracy: 0.4218\n",
      "Epoch 22/100\n",
      "387/387 [==============================] - 1s 3ms/step - loss: 1.4590 - accuracy: 0.4195 - val_loss: 1.4145 - val_accuracy: 0.4269\n",
      "Epoch 23/100\n",
      "387/387 [==============================] - 1s 3ms/step - loss: 1.4365 - accuracy: 0.4279 - val_loss: 1.4046 - val_accuracy: 0.4334\n",
      "Epoch 24/100\n",
      "387/387 [==============================] - 1s 2ms/step - loss: 1.4319 - accuracy: 0.4311 - val_loss: 1.3931 - val_accuracy: 0.4360\n",
      "Epoch 25/100\n",
      "387/387 [==============================] - 1s 3ms/step - loss: 1.4086 - accuracy: 0.4454 - val_loss: 1.3733 - val_accuracy: 0.4611\n",
      "Epoch 26/100\n",
      "387/387 [==============================] - 1s 3ms/step - loss: 1.4110 - accuracy: 0.4454 - val_loss: 1.3693 - val_accuracy: 0.4454\n",
      "Epoch 27/100\n",
      "387/387 [==============================] - 1s 3ms/step - loss: 1.4057 - accuracy: 0.4487 - val_loss: 1.3649 - val_accuracy: 0.4611\n",
      "Epoch 28/100\n",
      "387/387 [==============================] - 1s 2ms/step - loss: 1.4007 - accuracy: 0.4477 - val_loss: 1.3631 - val_accuracy: 0.4611\n",
      "Epoch 29/100\n",
      "387/387 [==============================] - 1s 3ms/step - loss: 1.3873 - accuracy: 0.4578 - val_loss: 1.3607 - val_accuracy: 0.4509\n",
      "Epoch 30/100\n",
      "387/387 [==============================] - 1s 3ms/step - loss: 1.3916 - accuracy: 0.4531 - val_loss: 1.3561 - val_accuracy: 0.4680\n",
      "Epoch 31/100\n",
      "387/387 [==============================] - 2s 4ms/step - loss: 1.3921 - accuracy: 0.4593 - val_loss: 1.3534 - val_accuracy: 0.4538\n",
      "Epoch 32/100\n",
      "387/387 [==============================] - 1s 4ms/step - loss: 1.4423 - accuracy: 0.4401 - val_loss: 1.4038 - val_accuracy: 0.4469\n",
      "Epoch 33/100\n",
      "387/387 [==============================] - 1s 3ms/step - loss: 1.4385 - accuracy: 0.4361 - val_loss: 1.3873 - val_accuracy: 0.4534\n",
      "Epoch 34/100\n",
      "387/387 [==============================] - 1s 4ms/step - loss: 1.4095 - accuracy: 0.4491 - val_loss: 1.3602 - val_accuracy: 0.4647\n",
      "Epoch 35/100\n",
      "387/387 [==============================] - 2s 4ms/step - loss: 1.3939 - accuracy: 0.4541 - val_loss: 1.3559 - val_accuracy: 0.4571\n",
      "Epoch 36/100\n",
      "387/387 [==============================] - 1s 4ms/step - loss: 1.3984 - accuracy: 0.4526 - val_loss: 1.3818 - val_accuracy: 0.4545\n",
      "Epoch 37/100\n",
      "387/387 [==============================] - 1s 3ms/step - loss: 1.3973 - accuracy: 0.4510 - val_loss: 1.3604 - val_accuracy: 0.4574\n",
      "Epoch 38/100\n",
      "387/387 [==============================] - 1s 2ms/step - loss: 1.3928 - accuracy: 0.4548 - val_loss: 1.3548 - val_accuracy: 0.4785\n",
      "Epoch 39/100\n",
      "387/387 [==============================] - 1s 3ms/step - loss: 1.3904 - accuracy: 0.4555 - val_loss: 1.3506 - val_accuracy: 0.4742\n",
      "Epoch 40/100\n",
      "387/387 [==============================] - 2s 4ms/step - loss: 1.3802 - accuracy: 0.4586 - val_loss: 1.3508 - val_accuracy: 0.4709\n",
      "Epoch 41/100\n",
      "387/387 [==============================] - 1s 3ms/step - loss: 1.3876 - accuracy: 0.4627 - val_loss: 1.4056 - val_accuracy: 0.4418\n",
      "Epoch 42/100\n",
      "387/387 [==============================] - 2s 4ms/step - loss: 1.4181 - accuracy: 0.4370 - val_loss: 1.5487 - val_accuracy: 0.3806\n",
      "Epoch 43/100\n",
      "387/387 [==============================] - 1s 4ms/step - loss: 1.5425 - accuracy: 0.3878 - val_loss: 1.4711 - val_accuracy: 0.4057\n",
      "Epoch 44/100\n",
      "387/387 [==============================] - 1s 3ms/step - loss: 1.4991 - accuracy: 0.4035 - val_loss: 1.4560 - val_accuracy: 0.4123\n",
      "Epoch 45/100\n",
      "387/387 [==============================] - 1s 2ms/step - loss: 1.4771 - accuracy: 0.4008 - val_loss: 1.4456 - val_accuracy: 0.4156\n",
      "Epoch 46/100\n",
      "387/387 [==============================] - 1s 4ms/step - loss: 1.4739 - accuracy: 0.4051 - val_loss: 1.4375 - val_accuracy: 0.4134\n",
      "Epoch 47/100\n",
      "387/387 [==============================] - 2s 4ms/step - loss: 1.4678 - accuracy: 0.4078 - val_loss: 1.4289 - val_accuracy: 0.4265\n",
      "Epoch 48/100\n",
      "387/387 [==============================] - 2s 4ms/step - loss: 1.4595 - accuracy: 0.4101 - val_loss: 1.4230 - val_accuracy: 0.4309\n",
      "Epoch 49/100\n",
      "387/387 [==============================] - 2s 4ms/step - loss: 1.4589 - accuracy: 0.4146 - val_loss: 1.4166 - val_accuracy: 0.4258\n",
      "Epoch 50/100\n",
      "387/387 [==============================] - 1s 2ms/step - loss: 1.4539 - accuracy: 0.4191 - val_loss: 1.4102 - val_accuracy: 0.4392\n",
      "Epoch 51/100\n",
      "387/387 [==============================] - 1s 2ms/step - loss: 1.4493 - accuracy: 0.4243 - val_loss: 1.4043 - val_accuracy: 0.4392\n",
      "Epoch 52/100\n",
      "387/387 [==============================] - 1s 2ms/step - loss: 1.4373 - accuracy: 0.4320 - val_loss: 1.3953 - val_accuracy: 0.4327\n",
      "Epoch 53/100\n",
      "387/387 [==============================] - 1s 3ms/step - loss: 1.4328 - accuracy: 0.4361 - val_loss: 1.3878 - val_accuracy: 0.4410\n",
      "Epoch 54/100\n",
      "387/387 [==============================] - 1s 4ms/step - loss: 1.4024 - accuracy: 0.4479 - val_loss: 1.3616 - val_accuracy: 0.4592\n",
      "Epoch 55/100\n",
      "387/387 [==============================] - 1s 3ms/step - loss: 1.3958 - accuracy: 0.4524 - val_loss: 1.3509 - val_accuracy: 0.4622\n",
      "Epoch 56/100\n",
      "387/387 [==============================] - 1s 4ms/step - loss: 1.3900 - accuracy: 0.4552 - val_loss: 1.3651 - val_accuracy: 0.4549\n",
      "Epoch 57/100\n",
      "387/387 [==============================] - 1s 3ms/step - loss: 1.3869 - accuracy: 0.4585 - val_loss: 1.3960 - val_accuracy: 0.4629\n"
     ]
    },
    {
     "name": "stdout",
     "output_type": "stream",
     "text": [
      "Epoch 58/100\n",
      "387/387 [==============================] - 1s 3ms/step - loss: 1.3883 - accuracy: 0.4558 - val_loss: 1.4303 - val_accuracy: 0.4360\n",
      "Epoch 59/100\n",
      "387/387 [==============================] - 1s 3ms/step - loss: 1.4499 - accuracy: 0.4276 - val_loss: 1.3450 - val_accuracy: 0.4676\n",
      "Epoch 60/100\n",
      "387/387 [==============================] - 1s 3ms/step - loss: 1.4201 - accuracy: 0.4444 - val_loss: 1.3619 - val_accuracy: 0.4629\n",
      "Epoch 61/100\n",
      "387/387 [==============================] - 1s 3ms/step - loss: 1.3877 - accuracy: 0.4530 - val_loss: 1.3464 - val_accuracy: 0.4698\n",
      "Epoch 62/100\n",
      "387/387 [==============================] - 1s 4ms/step - loss: 1.3792 - accuracy: 0.4633 - val_loss: 1.3418 - val_accuracy: 0.4691\n",
      "Epoch 63/100\n",
      "387/387 [==============================] - 1s 4ms/step - loss: 1.3792 - accuracy: 0.4614 - val_loss: 1.3428 - val_accuracy: 0.4691\n",
      "Epoch 64/100\n",
      "387/387 [==============================] - 1s 3ms/step - loss: 1.3872 - accuracy: 0.4608 - val_loss: 1.3525 - val_accuracy: 0.4698\n",
      "Epoch 65/100\n",
      "387/387 [==============================] - 1s 4ms/step - loss: 1.3823 - accuracy: 0.4644 - val_loss: 1.3386 - val_accuracy: 0.4716\n",
      "Epoch 66/100\n",
      "387/387 [==============================] - 1s 3ms/step - loss: 1.3778 - accuracy: 0.4624 - val_loss: 1.3453 - val_accuracy: 0.4687\n",
      "Epoch 67/100\n",
      "387/387 [==============================] - 2s 4ms/step - loss: 1.3830 - accuracy: 0.4617 - val_loss: 1.4268 - val_accuracy: 0.4392\n",
      "Epoch 68/100\n",
      "387/387 [==============================] - 1s 4ms/step - loss: 1.4254 - accuracy: 0.4419 - val_loss: 1.3476 - val_accuracy: 0.4782\n",
      "Epoch 69/100\n",
      "387/387 [==============================] - 1s 2ms/step - loss: 1.4018 - accuracy: 0.4592 - val_loss: 1.4792 - val_accuracy: 0.4061\n",
      "Epoch 70/100\n",
      "387/387 [==============================] - 1s 2ms/step - loss: 1.4864 - accuracy: 0.4090 - val_loss: 1.4158 - val_accuracy: 0.4389\n",
      "Epoch 71/100\n",
      "387/387 [==============================] - 1s 2ms/step - loss: 1.4469 - accuracy: 0.4272 - val_loss: 1.4019 - val_accuracy: 0.4465\n",
      "Epoch 72/100\n",
      "387/387 [==============================] - 1s 4ms/step - loss: 1.4288 - accuracy: 0.4390 - val_loss: 1.3936 - val_accuracy: 0.4585\n",
      "Epoch 73/100\n",
      "387/387 [==============================] - 2s 4ms/step - loss: 1.4191 - accuracy: 0.4417 - val_loss: 1.3871 - val_accuracy: 0.4603\n",
      "Epoch 74/100\n",
      "387/387 [==============================] - 2s 4ms/step - loss: 1.4136 - accuracy: 0.4487 - val_loss: 1.3780 - val_accuracy: 0.4658\n",
      "Epoch 75/100\n",
      "387/387 [==============================] - 1s 3ms/step - loss: 1.4039 - accuracy: 0.4451 - val_loss: 1.3615 - val_accuracy: 0.4672\n",
      "Epoch 76/100\n",
      "387/387 [==============================] - 1s 2ms/step - loss: 1.3923 - accuracy: 0.4577 - val_loss: 1.3515 - val_accuracy: 0.4745\n",
      "Epoch 77/100\n",
      "387/387 [==============================] - 1s 2ms/step - loss: 1.3905 - accuracy: 0.4554 - val_loss: 1.3481 - val_accuracy: 0.4658\n",
      "Epoch 78/100\n",
      "387/387 [==============================] - 1s 2ms/step - loss: 1.3788 - accuracy: 0.4577 - val_loss: 1.3440 - val_accuracy: 0.4742\n",
      "Epoch 79/100\n",
      "387/387 [==============================] - 2s 4ms/step - loss: 1.4957 - accuracy: 0.4138 - val_loss: 1.4546 - val_accuracy: 0.4207\n",
      "Epoch 80/100\n",
      "387/387 [==============================] - 2s 4ms/step - loss: 1.4817 - accuracy: 0.4077 - val_loss: 1.4433 - val_accuracy: 0.4141\n",
      "Epoch 81/100\n",
      "387/387 [==============================] - 1s 3ms/step - loss: 1.4631 - accuracy: 0.4177 - val_loss: 1.4340 - val_accuracy: 0.4272\n",
      "Epoch 82/100\n",
      "387/387 [==============================] - 1s 3ms/step - loss: 1.4676 - accuracy: 0.4165 - val_loss: 1.4283 - val_accuracy: 0.4312\n",
      "Epoch 83/100\n",
      "387/387 [==============================] - 1s 3ms/step - loss: 1.4548 - accuracy: 0.4260 - val_loss: 1.4224 - val_accuracy: 0.4334\n",
      "Epoch 84/100\n",
      "387/387 [==============================] - 2s 4ms/step - loss: 1.4553 - accuracy: 0.4250 - val_loss: 1.4168 - val_accuracy: 0.4421\n",
      "Epoch 85/100\n",
      "387/387 [==============================] - 1s 3ms/step - loss: 1.4462 - accuracy: 0.4320 - val_loss: 1.4127 - val_accuracy: 0.4469\n",
      "Epoch 86/100\n",
      "387/387 [==============================] - 1s 4ms/step - loss: 1.4481 - accuracy: 0.4315 - val_loss: 1.4077 - val_accuracy: 0.4451\n",
      "Epoch 87/100\n",
      "387/387 [==============================] - 1s 3ms/step - loss: 1.4418 - accuracy: 0.4272 - val_loss: 1.4042 - val_accuracy: 0.4465\n",
      "Epoch 88/100\n",
      "387/387 [==============================] - 1s 2ms/step - loss: 1.4456 - accuracy: 0.4248 - val_loss: 1.3979 - val_accuracy: 0.4563\n",
      "Epoch 89/100\n",
      "387/387 [==============================] - 1s 2ms/step - loss: 1.4364 - accuracy: 0.4382 - val_loss: 1.3953 - val_accuracy: 0.4592\n",
      "Epoch 90/100\n",
      "387/387 [==============================] - 1s 2ms/step - loss: 1.4332 - accuracy: 0.4443 - val_loss: 1.3897 - val_accuracy: 0.4578\n",
      "Epoch 91/100\n",
      "387/387 [==============================] - 1s 2ms/step - loss: 1.4195 - accuracy: 0.4483 - val_loss: 1.3850 - val_accuracy: 0.4636\n",
      "Epoch 92/100\n",
      "387/387 [==============================] - 1s 3ms/step - loss: 1.4193 - accuracy: 0.4502 - val_loss: 1.3785 - val_accuracy: 0.4651\n",
      "Epoch 93/100\n",
      "387/387 [==============================] - 1s 3ms/step - loss: 1.4031 - accuracy: 0.4616 - val_loss: 1.3575 - val_accuracy: 0.4807\n",
      "Epoch 94/100\n",
      "387/387 [==============================] - 1s 3ms/step - loss: 1.3838 - accuracy: 0.4711 - val_loss: 1.3507 - val_accuracy: 0.4716\n",
      "Epoch 95/100\n",
      "387/387 [==============================] - 1s 3ms/step - loss: 1.3775 - accuracy: 0.4658 - val_loss: 1.3462 - val_accuracy: 0.4694\n",
      "Epoch 96/100\n",
      "387/387 [==============================] - 1s 3ms/step - loss: 1.4636 - accuracy: 0.4533 - val_loss: 1.3950 - val_accuracy: 0.4534\n",
      "Epoch 97/100\n",
      "387/387 [==============================] - 1s 3ms/step - loss: 1.4248 - accuracy: 0.4394 - val_loss: 1.3826 - val_accuracy: 0.4582\n",
      "Epoch 98/100\n",
      "387/387 [==============================] - 1s 3ms/step - loss: 1.4121 - accuracy: 0.4521 - val_loss: 1.3720 - val_accuracy: 0.4727\n",
      "Epoch 99/100\n",
      "387/387 [==============================] - 1s 2ms/step - loss: 1.3920 - accuracy: 0.4649 - val_loss: 1.3608 - val_accuracy: 0.4756\n",
      "Epoch 100/100\n",
      "387/387 [==============================] - 1s 3ms/step - loss: 1.3889 - accuracy: 0.4654 - val_loss: 1.3526 - val_accuracy: 0.4833\n"
     ]
    },
    {
     "data": {
      "text/plain": [
       "<tensorflow.python.keras.callbacks.History at 0x1b15cd79100>"
      ]
     },
     "execution_count": 26,
     "metadata": {},
     "output_type": "execute_result"
    }
   ],
   "source": [
    "model.fit(X_train, y_train, validation_data=(X_test, y_test), epochs=100, batch_size=64, verbose=1)"
   ]
  },
  {
   "cell_type": "code",
   "execution_count": 17,
   "metadata": {},
   "outputs": [
    {
     "data": {
      "text/html": [
       "<div>\n",
       "<style scoped>\n",
       "    .dataframe tbody tr th:only-of-type {\n",
       "        vertical-align: middle;\n",
       "    }\n",
       "\n",
       "    .dataframe tbody tr th {\n",
       "        vertical-align: top;\n",
       "    }\n",
       "\n",
       "    .dataframe thead th {\n",
       "        text-align: right;\n",
       "    }\n",
       "</style>\n",
       "<table border=\"1\" class=\"dataframe\">\n",
       "  <thead>\n",
       "    <tr style=\"text-align: right;\">\n",
       "      <th></th>\n",
       "      <th>fire_size</th>\n",
       "      <th>remoteness</th>\n",
       "      <th>putout_time</th>\n",
       "    </tr>\n",
       "  </thead>\n",
       "  <tbody>\n",
       "    <tr>\n",
       "      <th>0</th>\n",
       "      <td>37.0</td>\n",
       "      <td>0.191923</td>\n",
       "      <td>0</td>\n",
       "    </tr>\n",
       "  </tbody>\n",
       "</table>\n",
       "</div>"
      ],
      "text/plain": [
       "   fire_size  remoteness  putout_time\n",
       "0       37.0    0.191923            0"
      ]
     },
     "execution_count": 17,
     "metadata": {},
     "output_type": "execute_result"
    }
   ],
   "source": [
    "# test model\n",
    "test_data = {\n",
    "    'fire_size': [37.0],\n",
    "    'remoteness': [0.191923],\n",
    "    'putout_time': [0]\t\n",
    "}\n",
    "test_data = pd.DataFrame(test_data)\n",
    "test_data"
   ]
  },
  {
   "cell_type": "code",
   "execution_count": null,
   "metadata": {},
   "outputs": [],
   "source": [
    "result = model.predict(test_data)\n",
    "result"
   ]
  },
  {
   "cell_type": "code",
   "execution_count": null,
   "metadata": {},
   "outputs": [],
   "source": [
    "# find class\n",
    "final = 0\n",
    "for i in range(6):\n",
    "    if (result[0][i] > final):\n",
    "        final = result[0][i]\n",
    "    # print(final)\n",
    "final = np.where(result[0] == final)\n",
    "print(final[0][0])\n",
    "    "
   ]
  },
  {
   "cell_type": "code",
   "execution_count": null,
   "metadata": {},
   "outputs": [],
   "source": [
    "# save model\n",
    "model.save(\"../Weights/cause.h5\")"
   ]
  },
  {
   "cell_type": "code",
   "execution_count": null,
   "metadata": {},
   "outputs": [],
   "source": [
    "# add cause to predicted fires dataset\n",
    "predicted_data = pd.read_csv('../data/PredictedData.csv')"
   ]
  },
  {
   "cell_type": "code",
   "execution_count": null,
   "metadata": {},
   "outputs": [],
   "source": [
    "predicted_data = predicted_data.dropna()\n",
    "predicted_data['putout_time'] = predicted_data['putout_time'].str.split(' ').str[0]\n",
    "test_data = predicted_data[['fire_size', 'remoteness', 'putout_time']].astype('float')\n",
    "results = model.predict(test_data)"
   ]
  },
  {
   "cell_type": "markdown",
   "metadata": {},
   "source": [
    "**XGBoost Classifier**"
   ]
  },
  {
   "cell_type": "code",
   "execution_count": null,
   "metadata": {},
   "outputs": [],
   "source": [
    "from xgboost import XGBClassifier\n",
    "from sklearn.metrics import accuracy_score"
   ]
  },
  {
   "cell_type": "code",
   "execution_count": null,
   "metadata": {},
   "outputs": [],
   "source": [
    "xgb_model = XGBClassifier(\n",
    "        silent=False, \n",
    "        scale_pos_weight=1,\n",
    "        learning_rate=0.01,  \n",
    "        colsample_bytree = 1,\n",
    "        subsample = 0.8,\n",
    "        objective='multi:softprob', \n",
    "        n_estimators=1000, \n",
    "        reg_alpha = 0.3,\n",
    "        max_depth=5, \n",
    "        gamma=1)\n",
    "xgb_model.fit(X_train, y_train)"
   ]
  },
  {
   "cell_type": "code",
   "execution_count": null,
   "metadata": {},
   "outputs": [],
   "source": [
    "y_pred = xgb_model.predict(X_test)\n",
    "predictions = [round(value) for value in y_pred]"
   ]
  },
  {
   "cell_type": "code",
   "execution_count": null,
   "metadata": {},
   "outputs": [],
   "source": [
    "accuracy = round(accuracy_score(y_test, predictions), 2)\n",
    "accuracy"
   ]
  },
  {
   "cell_type": "code",
   "execution_count": null,
   "metadata": {},
   "outputs": [],
   "source": [
    "result = xgb_model.predict(test_data)\n",
    "result[0]"
   ]
  },
  {
   "cell_type": "code",
   "execution_count": null,
   "metadata": {},
   "outputs": [],
   "source": [
    "print(X_test.tail())\n",
    "print(y_test.tail())"
   ]
  },
  {
   "cell_type": "code",
   "execution_count": null,
   "metadata": {},
   "outputs": [],
   "source": [
    "# test model\n",
    "test_data1 = {\n",
    "    'fire_size': [5.0],\n",
    "    'remoteness': [0.250806],\n",
    "    'putout_time': [2.0]\t\n",
    "}\n",
    "test_data1 = pd.DataFrame(test_data1)\n",
    "test_data1"
   ]
  },
  {
   "cell_type": "code",
   "execution_count": null,
   "metadata": {},
   "outputs": [],
   "source": [
    "result1 = xgb_model.predict(test_data1)\n",
    "result1[0].astype('int')"
   ]
  }
 ],
 "metadata": {
  "interpreter": {
   "hash": "7f8c79caef6f500d10f1d53b5233fd35aa3fbbd3a39d10048919692e9c705d27"
  },
  "kernelspec": {
   "display_name": "Python 3",
   "language": "python",
   "name": "python3"
  },
  "language_info": {
   "codemirror_mode": {
    "name": "ipython",
    "version": 3
   },
   "file_extension": ".py",
   "mimetype": "text/x-python",
   "name": "python",
   "nbconvert_exporter": "python",
   "pygments_lexer": "ipython3",
   "version": "3.8.5"
  }
 },
 "nbformat": 4,
 "nbformat_minor": 2
}
